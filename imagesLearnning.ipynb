{
 "cells": [
  {
   "cell_type": "code",
   "execution_count": 1,
   "metadata": {
    "scrolled": false
   },
   "outputs": [
    {
     "ename": "error",
     "evalue": "OpenCV(4.1.0) /io/opencv/modules/imgproc/src/resize.cpp:3718: error: (-215:Assertion failed) !ssize.empty() in function 'resize'\n",
     "output_type": "error",
     "traceback": [
      "\u001b[0;31m---------------------------------------------------------------------------\u001b[0m",
      "\u001b[0;31merror\u001b[0m                                     Traceback (most recent call last)",
      "\u001b[0;32m<ipython-input-1-f3c16e44659c>\u001b[0m in \u001b[0;36m<module>\u001b[0;34m\u001b[0m\n\u001b[1;32m      3\u001b[0m \u001b[0;32mfrom\u001b[0m \u001b[0mImagesProcess\u001b[0m \u001b[0;32mimport\u001b[0m \u001b[0mImagesProcess\u001b[0m\u001b[0;34m\u001b[0m\u001b[0;34m\u001b[0m\u001b[0m\n\u001b[1;32m      4\u001b[0m \u001b[0;34m\u001b[0m\u001b[0m\n\u001b[0;32m----> 5\u001b[0;31m \u001b[0mimgs\u001b[0m\u001b[0;34m,\u001b[0m \u001b[0mlabels\u001b[0m \u001b[0;34m=\u001b[0m \u001b[0mImagesProcess\u001b[0m\u001b[0;34m.\u001b[0m\u001b[0mgetImages\u001b[0m\u001b[0;34m(\u001b[0m\u001b[0;34m)\u001b[0m\u001b[0;34m\u001b[0m\u001b[0;34m\u001b[0m\u001b[0m\n\u001b[0m",
      "\u001b[0;32m~/Code/Python/imagesSearch/ImagesProcess/ImagesProcess.py\u001b[0m in \u001b[0;36mgetImages\u001b[0;34m(path)\u001b[0m\n\u001b[1;32m     13\u001b[0m     \u001b[0;32mfor\u001b[0m \u001b[0mimage\u001b[0m \u001b[0;32min\u001b[0m \u001b[0mos\u001b[0m\u001b[0;34m.\u001b[0m\u001b[0mlistdir\u001b[0m\u001b[0;34m(\u001b[0m\u001b[0mpath\u001b[0m\u001b[0;34m)\u001b[0m\u001b[0;34m:\u001b[0m\u001b[0;34m\u001b[0m\u001b[0;34m\u001b[0m\u001b[0m\n\u001b[1;32m     14\u001b[0m         \u001b[0mimg\u001b[0m \u001b[0;34m=\u001b[0m \u001b[0mcv2\u001b[0m\u001b[0;34m.\u001b[0m\u001b[0mimread\u001b[0m\u001b[0;34m(\u001b[0m\u001b[0mos\u001b[0m\u001b[0;34m.\u001b[0m\u001b[0mpath\u001b[0m\u001b[0;34m.\u001b[0m\u001b[0mjoin\u001b[0m\u001b[0;34m(\u001b[0m\u001b[0mpath\u001b[0m\u001b[0;34m,\u001b[0m\u001b[0mimage\u001b[0m\u001b[0;34m)\u001b[0m\u001b[0;34m)\u001b[0m\u001b[0;34m\u001b[0m\u001b[0;34m\u001b[0m\u001b[0m\n\u001b[0;32m---> 15\u001b[0;31m         \u001b[0mimg\u001b[0m \u001b[0;34m=\u001b[0m\u001b[0mcv2\u001b[0m\u001b[0;34m.\u001b[0m\u001b[0mresize\u001b[0m\u001b[0;34m(\u001b[0m\u001b[0mimg\u001b[0m\u001b[0;34m,\u001b[0m\u001b[0;34m(\u001b[0m\u001b[0;36m100\u001b[0m\u001b[0;34m,\u001b[0m\u001b[0;36m100\u001b[0m\u001b[0;34m)\u001b[0m\u001b[0;34m)\u001b[0m\u001b[0;34m\u001b[0m\u001b[0;34m\u001b[0m\u001b[0m\n\u001b[0m\u001b[1;32m     16\u001b[0m         \u001b[0mimgs\u001b[0m\u001b[0;34m.\u001b[0m\u001b[0mappend\u001b[0m\u001b[0;34m(\u001b[0m\u001b[0mimg\u001b[0m\u001b[0;34m)\u001b[0m\u001b[0;34m\u001b[0m\u001b[0;34m\u001b[0m\u001b[0m\n\u001b[1;32m     17\u001b[0m         \u001b[0mlabels\u001b[0m\u001b[0;34m.\u001b[0m\u001b[0mappend\u001b[0m\u001b[0;34m(\u001b[0m\u001b[0mimage\u001b[0m\u001b[0;34m)\u001b[0m\u001b[0;34m\u001b[0m\u001b[0;34m\u001b[0m\u001b[0m\n",
      "\u001b[0;31merror\u001b[0m: OpenCV(4.1.0) /io/opencv/modules/imgproc/src/resize.cpp:3718: error: (-215:Assertion failed) !ssize.empty() in function 'resize'\n"
     ]
    }
   ],
   "source": [
    "%load_ext autoreload\n",
    "%autoreload 2\n",
    "from ImagesProcess import ImagesProcess\n",
    "\n",
    "imgs, labels = ImagesProcess.getImages()"
   ]
  },
  {
   "cell_type": "code",
   "execution_count": 3,
   "metadata": {},
   "outputs": [],
   "source": [
    "from sklearn.preprocessing import LabelEncoder\n",
    "import os \n",
    "import pickle \n",
    "import numpy as np\n",
    "\n",
    "\n",
    "def loadLabels():\n",
    "    path = './labelsTrain'\n",
    "    mylabels =list()\n",
    "    for data in os.listdir(path):\n",
    "        with open(os.path.join(path,data),'rb') as labels :\n",
    "            mylabels = pickle.load(labels)\n",
    "    return mylabels \n",
    "\n",
    "\n",
    "def scale_fit():\n",
    "    path = './dataTrain/'\n",
    "    lis = list()\n",
    "    for data in os.listdir(path):\n",
    "        with open(os.path.join(path,data),'rb') as style :\n",
    "            mystyle = pickle.load(style)\n",
    "            for image in mystyle:\n",
    "                lis.append(image)\n",
    "#     print(len(lis))\n",
    "    lis = np.array(lis)\n",
    "    \n",
    "    return lis"
   ]
  },
  {
   "cell_type": "code",
   "execution_count": 4,
   "metadata": {
    "scrolled": true
   },
   "outputs": [
    {
     "name": "stdout",
     "output_type": "stream",
     "text": [
      "(421, 100, 100, 3)\n"
     ]
    },
    {
     "name": "stderr",
     "output_type": "stream",
     "text": [
      "Using TensorFlow backend.\n"
     ]
    },
    {
     "name": "stdout",
     "output_type": "stream",
     "text": [
      "(421, 8)\n"
     ]
    }
   ],
   "source": [
    "import numpy as np\n",
    "imgs = np.array(imgs)\n",
    "labels = np.array(labels)\n",
    "\n",
    "print(imgs.shape)\n",
    "from keras.utils import to_categorical\n",
    "y_binary = to_categorical(labels)\n",
    "\n",
    "print(y_binary.shape)"
   ]
  },
  {
   "cell_type": "code",
   "execution_count": 5,
   "metadata": {},
   "outputs": [
    {
     "name": "stdout",
     "output_type": "stream",
     "text": [
      "WARNING:tensorflow:From /home/dr-trange/.local/lib/python3.6/site-packages/tensorflow/python/framework/op_def_library.py:263: colocate_with (from tensorflow.python.framework.ops) is deprecated and will be removed in a future version.\n",
      "Instructions for updating:\n",
      "Colocations handled automatically by placer.\n",
      "WARNING:tensorflow:From /home/dr-trange/.local/lib/python3.6/site-packages/keras/backend/tensorflow_backend.py:3445: calling dropout (from tensorflow.python.ops.nn_ops) with keep_prob is deprecated and will be removed in a future version.\n",
      "Instructions for updating:\n",
      "Please use `rate` instead of `keep_prob`. Rate should be set to `rate = 1 - keep_prob`.\n"
     ]
    }
   ],
   "source": [
    "from keras.layers import *\n",
    "from keras.layers.convolutional import Conv2D\n",
    "from keras.layers.pooling import MaxPooling2D\n",
    "from keras.models import Sequential\n",
    "from keras.layers import Dense\n",
    "#Image Dimensions\n",
    "width=100\n",
    "height=100\n",
    "channels=3\n",
    "\n",
    "model=Sequential()\n",
    "model.add(Conv2D(32,(3,3),input_shape=(width,height,channels)))\n",
    "model.add(Activation('relu'))\n",
    "model.add(MaxPooling2D(pool_size=(2,2)))\n",
    "model.add(Conv2D(64,(3,3)))\n",
    "model.add(Activation('relu'))\n",
    "#We are naming this layer, as we will extract features from it in future, JUST WAIT !!!\n",
    "model.add(MaxPooling2D(pool_size=(2,2),name='feature_layer'))\n",
    "model.add(Flatten())\n",
    "model.add(Dense(64))\n",
    "model.add(Activation('relu'))\n",
    "model.add(Dropout(rate=0.5))\n",
    "model.add(Dense(8))\n",
    "model.add(Activation('softmax'))\n",
    "model.compile(loss='categorical_crossentropy',optimizer='rmsprop',metrics=['accuracy'])"
   ]
  },
  {
   "cell_type": "code",
   "execution_count": 6,
   "metadata": {},
   "outputs": [
    {
     "name": "stdout",
     "output_type": "stream",
     "text": [
      "WARNING:tensorflow:From /home/dr-trange/.local/lib/python3.6/site-packages/tensorflow/python/ops/math_ops.py:3066: to_int32 (from tensorflow.python.ops.math_ops) is deprecated and will be removed in a future version.\n",
      "Instructions for updating:\n",
      "Use tf.cast instead.\n",
      "Train on 282 samples, validate on 139 samples\n",
      "Epoch 1/33\n",
      "282/282 [==============================] - 5s 16ms/step - loss: 13.8412 - acc: 0.1348 - val_loss: 14.6106 - val_acc: 0.0935\n",
      "Epoch 2/33\n",
      "282/282 [==============================] - 4s 15ms/step - loss: 13.7756 - acc: 0.1454 - val_loss: 14.6106 - val_acc: 0.0935\n",
      "Epoch 3/33\n",
      "282/282 [==============================] - 5s 16ms/step - loss: 13.0888 - acc: 0.1879 - val_loss: 14.6106 - val_acc: 0.0935\n",
      "Epoch 4/33\n",
      "282/282 [==============================] - 4s 15ms/step - loss: 13.4317 - acc: 0.1667 - val_loss: 14.6106 - val_acc: 0.0935\n",
      "Epoch 5/33\n",
      "282/282 [==============================] - 4s 16ms/step - loss: 14.0605 - acc: 0.1277 - val_loss: 14.6106 - val_acc: 0.0935\n",
      "Epoch 6/33\n",
      "282/282 [==============================] - 4s 16ms/step - loss: 13.6969 - acc: 0.1489 - val_loss: 14.6106 - val_acc: 0.0935\n",
      "Epoch 7/33\n",
      "282/282 [==============================] - 4s 16ms/step - loss: 14.0033 - acc: 0.1312 - val_loss: 14.6106 - val_acc: 0.0935\n",
      "Epoch 8/33\n",
      "282/282 [==============================] - 4s 14ms/step - loss: 14.1176 - acc: 0.1241 - val_loss: 14.6106 - val_acc: 0.0935\n",
      "Epoch 9/33\n",
      "282/282 [==============================] - 4s 14ms/step - loss: 13.9462 - acc: 0.1348 - val_loss: 14.6106 - val_acc: 0.0935\n",
      "Epoch 10/33\n",
      "282/282 [==============================] - 4s 14ms/step - loss: 13.9462 - acc: 0.1348 - val_loss: 14.6106 - val_acc: 0.0935\n",
      "Epoch 11/33\n",
      "282/282 [==============================] - 4s 14ms/step - loss: 13.8890 - acc: 0.1383 - val_loss: 14.6106 - val_acc: 0.0935\n",
      "Epoch 12/33\n",
      "282/282 [==============================] - 4s 14ms/step - loss: 13.9023 - acc: 0.1348 - val_loss: 14.6106 - val_acc: 0.0935\n",
      "Epoch 13/33\n",
      "282/282 [==============================] - 4s 14ms/step - loss: 13.8890 - acc: 0.1383 - val_loss: 14.6106 - val_acc: 0.0935\n",
      "Epoch 14/33\n",
      "282/282 [==============================] - 4s 15ms/step - loss: 13.9236 - acc: 0.1348 - val_loss: 14.6106 - val_acc: 0.0935\n",
      "Epoch 15/33\n",
      "282/282 [==============================] - 4s 15ms/step - loss: 14.1748 - acc: 0.1206 - val_loss: 14.6106 - val_acc: 0.0935\n",
      "Epoch 16/33\n",
      "282/282 [==============================] - 4s 14ms/step - loss: 14.1176 - acc: 0.1241 - val_loss: 14.6106 - val_acc: 0.0935\n",
      "Epoch 17/33\n",
      "282/282 [==============================] - 4s 14ms/step - loss: 13.8318 - acc: 0.1418 - val_loss: 14.6106 - val_acc: 0.0935\n",
      "Epoch 18/33\n",
      "282/282 [==============================] - 4s 15ms/step - loss: 13.9805 - acc: 0.1312 - val_loss: 14.6106 - val_acc: 0.0935\n",
      "Epoch 19/33\n",
      "282/282 [==============================] - 4s 15ms/step - loss: 13.8890 - acc: 0.1383 - val_loss: 14.6106 - val_acc: 0.0935\n",
      "Epoch 20/33\n",
      "282/282 [==============================] - 4s 15ms/step - loss: 13.9462 - acc: 0.1348 - val_loss: 14.6106 - val_acc: 0.0935\n",
      "Epoch 21/33\n",
      "282/282 [==============================] - 4s 15ms/step - loss: 13.9462 - acc: 0.1348 - val_loss: 14.6106 - val_acc: 0.0935\n",
      "Epoch 22/33\n",
      "282/282 [==============================] - 4s 15ms/step - loss: 13.8890 - acc: 0.1383 - val_loss: 14.6106 - val_acc: 0.0935\n",
      "Epoch 23/33\n",
      "282/282 [==============================] - 4s 15ms/step - loss: 13.8890 - acc: 0.1383 - val_loss: 14.6106 - val_acc: 0.0935\n",
      "Epoch 24/33\n",
      "282/282 [==============================] - 4s 14ms/step - loss: 13.7747 - acc: 0.1454 - val_loss: 14.6106 - val_acc: 0.0935\n",
      "Epoch 25/33\n",
      "282/282 [==============================] - 4s 14ms/step - loss: 13.9462 - acc: 0.1348 - val_loss: 14.6106 - val_acc: 0.0935\n",
      "Epoch 26/33\n",
      "282/282 [==============================] - 4s 14ms/step - loss: 13.8890 - acc: 0.1383 - val_loss: 14.6106 - val_acc: 0.0935\n",
      "Epoch 27/33\n",
      "282/282 [==============================] - 5s 17ms/step - loss: 13.8890 - acc: 0.1383 - val_loss: 14.6106 - val_acc: 0.0935\n",
      "Epoch 28/33\n",
      "282/282 [==============================] - 5s 17ms/step - loss: 13.8890 - acc: 0.1383 - val_loss: 14.6106 - val_acc: 0.0935\n",
      "Epoch 29/33\n",
      "282/282 [==============================] - 5s 18ms/step - loss: 13.9462 - acc: 0.1348 - val_loss: 14.6106 - val_acc: 0.0935\n",
      "Epoch 30/33\n",
      "282/282 [==============================] - 5s 16ms/step - loss: 13.8890 - acc: 0.1383 - val_loss: 14.6106 - val_acc: 0.0935\n",
      "Epoch 31/33\n",
      "282/282 [==============================] - 5s 17ms/step - loss: 13.8318 - acc: 0.1418 - val_loss: 14.6106 - val_acc: 0.0935\n",
      "Epoch 32/33\n",
      "282/282 [==============================] - 5s 17ms/step - loss: 13.8318 - acc: 0.1418 - val_loss: 14.6106 - val_acc: 0.0935\n",
      "Epoch 33/33\n",
      "282/282 [==============================] - 5s 17ms/step - loss: 13.9467 - acc: 0.1348 - val_loss: 14.6106 - val_acc: 0.0935\n"
     ]
    }
   ],
   "source": [
    "#Let's prepare the data for 2D-CNN\n",
    "X_Train=imgs.reshape(imgs.shape[0],100,100,3)\n",
    "history=model.fit(X_Train,y_binary,epochs=33,batch_size=30,validation_split=0.33)"
   ]
  },
  {
   "cell_type": "code",
   "execution_count": 8,
   "metadata": {},
   "outputs": [],
   "source": [
    "model.save(\"cnn.h5\")"
   ]
  },
  {
   "cell_type": "code",
   "execution_count": 6,
   "metadata": {},
   "outputs": [],
   "source": [
    "from keras.models import Model\n",
    "new_model=Model(inputs=model.input,outputs=model.get_layer('feature_layer').output)"
   ]
  },
  {
   "cell_type": "code",
   "execution_count": 7,
   "metadata": {},
   "outputs": [
    {
     "name": "stdout",
     "output_type": "stream",
     "text": [
      "(421, 23, 23, 64)\n"
     ]
    }
   ],
   "source": [
    "train_x=new_model.predict(X_Train)\n",
    "#Convert back the labels\n",
    "# train_y=[ np.where(r==1)[0][0] for r in y_binary ]\n",
    "# #We are now going to have a single row for each example\n",
    "# train_x=train_x.reshape(421,23*23*64)\n",
    "print(train_x.shape)\n",
    "\n",
    "# # (421, 23, 23, 64)"
   ]
  },
  {
   "cell_type": "code",
   "execution_count": 33,
   "metadata": {},
   "outputs": [
    {
     "name": "stdout",
     "output_type": "stream",
     "text": [
      "(23, 23)\n"
     ]
    }
   ],
   "source": [
    "%matplotlib inline\n",
    "import matplotlib.pyplot as plt\n",
    "import matplotlib.image as mpimg\n",
    "import numpy as np\n",
    "import cv2 \n",
    "print(train_x[2,:,:,0].shape)\n",
    "\n",
    "for i in range(64):\n",
    "    cv2.imwrite(str(i)+\".jpg\",train_x[i,:,:,0])"
   ]
  },
  {
   "cell_type": "code",
   "execution_count": 38,
   "metadata": {},
   "outputs": [
    {
     "data": {
      "text/plain": [
       "0.5866983372921615"
      ]
     },
     "execution_count": 38,
     "metadata": {},
     "output_type": "execute_result"
    }
   ],
   "source": [
    "from sklearn.neighbors import KNeighborsClassifier\n",
    "import pandas as pd\n",
    "knc=KNeighborsClassifier()\n",
    "knc.fit(train_x,train_y)\n",
    "knc.score(train_x,train_y)\n",
    "# knn_predict=knc.predict(test_x)\n",
    "# submissions=pd.DataFrame({\"ImageId\":list(range(1,len(knn_predict)+1))})\n",
    "# submissions.to_csv(\"results.csv\",index=False,header=True)"
   ]
  },
  {
   "cell_type": "code",
   "execution_count": null,
   "metadata": {},
   "outputs": [],
   "source": []
  }
 ],
 "metadata": {
  "kernelspec": {
   "display_name": "Python 3",
   "language": "python",
   "name": "python3"
  },
  "language_info": {
   "codemirror_mode": {
    "name": "ipython",
    "version": 3
   },
   "file_extension": ".py",
   "mimetype": "text/x-python",
   "name": "python",
   "nbconvert_exporter": "python",
   "pygments_lexer": "ipython3",
   "version": "3.6.8"
  }
 },
 "nbformat": 4,
 "nbformat_minor": 2
}
